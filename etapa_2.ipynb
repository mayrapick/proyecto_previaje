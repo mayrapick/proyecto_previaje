{
  "nbformat": 4,
  "nbformat_minor": 0,
  "metadata": {
    "colab": {
      "provenance": [],
      "authorship_tag": "ABX9TyMMJwLr4mkAeM0m8nfSbNBR",
      "include_colab_link": true
    },
    "kernelspec": {
      "name": "python3",
      "display_name": "Python 3"
    },
    "language_info": {
      "name": "python"
    }
  },
  "cells": [
    {
      "cell_type": "markdown",
      "metadata": {
        "id": "view-in-github",
        "colab_type": "text"
      },
      "source": [
        "<a href=\"https://colab.research.google.com/github/mayrapick/proyecto_previaje/blob/etapa_2/etapa_2.ipynb\" target=\"_parent\"><img src=\"https://colab.research.google.com/assets/colab-badge.svg\" alt=\"Open In Colab\"/></a>"
      ]
    },
    {
      "cell_type": "code",
      "execution_count": null,
      "metadata": {
        "id": "lji0L1ym6AGV"
      },
      "outputs": [],
      "source": [
        "#https://drive.google.com/file/d/1KWnSldEp76LoqMqNGyjLJYhEUlx1jIDJ/view?usp=sharing\n",
        "!gdown 1KWnSldEp76LoqMqNGyjLJYhEUlx1jIDJ\n",
        "\n",
        "import csv\n",
        "\n",
        "lista_viajes = openFile('Copia de viajes_origen_destino_mes.csv')\n",
        "encabezado = [\"fecha_inicio\", \"provincia_origen\", \"provincia_destino\", \"viajes\", \"viajeros\", \"edicion\"]\n",
        "\n",
        "# impresion de la lista\n",
        "print(lista_viajes)\n",
        "\n",
        "class Viaje:\n",
        "    \"\"\"\n",
        "    Esta clase representa un viaje,\n",
        "    contiene los datos relevantes al análisis.\n",
        "    \"\"\"\n",
        "    def __init__(self, mes_inicio, provincia_origen, provincia_destino, viajes, viajeros, edicion):\n",
        "\n",
        "      self.mes_inicio = mes_inicio\n",
        "      self.provincia_origen = provincia_origen\n",
        "      self.provincia_destino = provincia_destino\n",
        "      self.viajes = viajes\n",
        "      self.viajeros = viajeros\n",
        "      self.edicion = edicion\n",
        "\n",
        "    def __str__(self):\n",
        "      return f\"Viaje: mes: {self.mes_inicio}, origen: {self.provincia_origen}, destino: {self.provincia_destino}, viajes: {self.viajes}, cantidad de viajeros: {self.viajeros}, edición: {self.edicion}\"\n",
        "\n",
        "# ejemplos:\n",
        "# se crean mediante iteración todos los objetos posibles contenidos en lista_viajes\n",
        "for item in lista_viajes:\n",
        "  viaje = Viaje(item[0], item[1], item[2], int(item[3]), int(item[4]), item[5]) # crea el objeto como instancia de la clase\n",
        "  print(viaje)\n",
        ""
      ]
    },
    {
      "cell_type": "code",
      "source": [
        "def diccionarioViajes(lista):\n",
        "  \"\"\"\n",
        "  Esta funcion retorna una lista de diccionarios de viajes en función de una lista\n",
        "  que se le pasa por parámetro\n",
        "  \"\"\"\n",
        "  dicc_viajes = []\n",
        "  for item in lista:\n",
        "    diccionario = {\n",
        "      \"mes_inicio\": item[0],\n",
        "      \"provincia_origen\": item[1],\n",
        "      \"provincia_destino\": item[2],\n",
        "      \"viajes\": int(item[3]),\n",
        "      \"viajeros\": int(item[4]),\n",
        "      \"edicion\": item[5]\n",
        "    }\n",
        "    dicc_viajes.append(diccionario)\n",
        "  return dicc_viajes\n",
        "\n",
        "\n",
        "viajes = diccionarioViajes(lista_viajes)\n",
        "print(viajes)"
      ],
      "metadata": {
        "id": "EdfO274S6a4-"
      },
      "execution_count": null,
      "outputs": []
    },
    {
      "cell_type": "code",
      "source": [
        "def datosRelevantes(lista, *encabezados):\n",
        "  dicc_relevantes = []\n",
        "  for item in lista:\n",
        "    diccionario = {}\n",
        "    for encabezado in encabezados:\n",
        "      if encabezado in [\"mes_inicio\", \"provincia_origen\", \"provincia_destino\", \"viajes\", \"viajeros\", \"edicion\"]:\n",
        "        diccionario[encabezado] = item[[x.lower() for x in [\"mes_inicio\", \"provincia_origen\", \"provincia_destino\", \"viajes\", \"viajeros\", \"edicion\"]].index(encabezado)]\n",
        "    if diccionario:\n",
        "      dicc_relevantes.append(diccionario)\n",
        "  return dicc_relevantes\n",
        "\n",
        "#ejemplo de uso, se filtran en este caso por los encabezados: viajes y edicion\n",
        "viajes_edicion = datosRelevantes(lista_viajes, \"viajes\", \"edicion\")\n",
        "print(viajes_edicion)"
      ],
      "metadata": {
        "id": "zXFbR_-S6eFD"
      },
      "execution_count": null,
      "outputs": []
    },
    {
      "cell_type": "code",
      "source": [
        "#calcule cual fue la provincia que más viajeros recibio, en un mes y año indicados como parámetros.\n",
        "def masViajeros(lista, mes, periodo):\n",
        "  mes_str = str(mes).zfill(2)  # Rellena el valor del mes con ceros a la izquierda si es menor a una decena\n",
        "  viajeros_por_provincia = {}\n",
        "  for item in lista:\n",
        "    if item[0] == f'{periodo}-{mes_str}':\n",
        "      provincia_destino = item[2]\n",
        "      viajeros = int(item[4])\n",
        "      if provincia_destino in viajeros_por_provincia:\n",
        "        viajeros_por_provincia[provincia_destino] += viajeros\n",
        "      else:\n",
        "        viajeros_por_provincia[provincia_destino] = viajeros\n",
        "  if viajeros_por_provincia:\n",
        "    provincia_mas_viajeros = max(viajeros_por_provincia, key=viajeros_por_provincia.get)\n",
        "    return provincia_mas_viajeros, viajeros_por_provincia[provincia_destino]\n",
        "  else:\n",
        "    return \"No hay datos.\"\n",
        "\n",
        "#ejemplo de uso, se imprime por iteración los resultados para todos los meses de 2022\n",
        "for mes in range(1, 13):\n",
        "  provincia = masViajeros(lista_viajes, mes, 2021)\n",
        "  print(f\"Provincia con más viajeros en {mes}/2021: {provincia}\")\n",
        "\n",
        "#ejemplo de uso, caso en que no hay datos para cierto mes (10-2023)\n",
        "provincia = masViajeros(lista_viajes, 10, 2023)\n",
        "print(f\"Provincia con más viajeros en 10/2023: {provincia}\")"
      ],
      "metadata": {
        "id": "8Lmpq1Xj6e_r"
      },
      "execution_count": null,
      "outputs": []
    },
    {
      "cell_type": "code",
      "source": [
        "#calcule el promedio de viajeros por viaje en una provincia de origen especifica.\n",
        "def calcularPromedio(lista, provincia_origen):\n",
        "  total_viajes = 0\n",
        "  total_viajeros = 0\n",
        "  for item in lista:\n",
        "    if item[1] == provincia_origen:\n",
        "      viajes = int(item[3])\n",
        "      viajeros = int(item[4])\n",
        "      total_viajes += viajes\n",
        "      total_viajeros += viajeros\n",
        "  if total_viajes > 0:\n",
        "    promedio = round(total_viajeros / total_viajes)\n",
        "    return promedio\n",
        "  else:\n",
        "    return \"No hay suficientes viajes\"\n",
        "\n",
        "# creamos una lista de provincias para aplicar el promedio\n",
        "provincias = []\n",
        "for elemento in lista_viajes:\n",
        "  provincia_origen = elemento[1]\n",
        "  # se agrega a la lista solo una vez cada provincia\n",
        "  if provincia_origen not in provincias:\n",
        "      provincias.append(provincia_origen)\n",
        "\n",
        "# ejemplos iterando cada provincia\n",
        "for provincia in provincias:\n",
        "    promedio = calcularPromedio(lista_viajes, provincia)\n",
        "    print(f\"Promedio de viajeros por viaje en {provincia}: {promedio}\")"
      ],
      "metadata": {
        "id": "KAtggR546kSv"
      },
      "execution_count": null,
      "outputs": []
    },
    {
      "cell_type": "code",
      "source": [],
      "metadata": {
        "id": "EneH1BMR6sn4"
      },
      "execution_count": null,
      "outputs": []
    }
  ]
}