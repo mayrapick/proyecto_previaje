{
  "nbformat": 4,
  "nbformat_minor": 0,
  "metadata": {
    "colab": {
      "provenance": [],
      "authorship_tag": "ABX9TyMEo62C+kil8tTn/HGLNu5F",
      "include_colab_link": true
    },
    "kernelspec": {
      "name": "python3",
      "display_name": "Python 3"
    },
    "language_info": {
      "name": "python"
    }
  },
  "cells": [
    {
      "cell_type": "markdown",
      "metadata": {
        "id": "view-in-github",
        "colab_type": "text"
      },
      "source": [
        "<a href=\"https://colab.research.google.com/github/mayrapick/proyecto_previaje/blob/etapa_3/etapa_3ipynb.ipynb\" target=\"_parent\"><img src=\"https://colab.research.google.com/assets/colab-badge.svg\" alt=\"Open In Colab\"/></a>"
      ]
    },
    {
      "cell_type": "code",
      "execution_count": null,
      "metadata": {
        "id": "K5e1k3G768PN"
      },
      "outputs": [],
      "source": [
        "# filtramos los encabezados relevantes: viajes y edicion\n",
        "viajes_edicion = datosRelevantes(lista_viajes, \"viajes\", \"edicion\")\n",
        "\n",
        "def calcularViajesPorEdicion(lista_dicc):\n",
        "  \"\"\"\n",
        "  función que recibe una lista de diccionarios por parámetro\n",
        "  y develve la cantidad de viajes por edicion en un diccionario\n",
        "  (key: edicion, value: total de viajes)\n",
        "  \"\"\"\n",
        "  viajes_por_edicion = {}\n",
        "\n",
        "  for viaje in lista_dicc:\n",
        "    edicion = viaje['edicion']\n",
        "    cantidad_viajes = int(viaje['viajes'])\n",
        "    if edicion in viajes_por_edicion:\n",
        "       viajes_por_edicion[edicion] += cantidad_viajes\n",
        "    else:\n",
        "       viajes_por_edicion[edicion] = cantidad_viajes\n",
        "  return viajes_por_edicion\n",
        "\n",
        "viajes_por_edicion = calcularViajesPorEdicion(viajes_edicion)\n",
        "print(viajes_por_edicion)"
      ]
    },
    {
      "cell_type": "code",
      "source": [
        "#creacion de grafico:\n",
        "import matplotlib.pyplot as plt\n",
        "\n",
        "def crearGrafico(diccionario):\n",
        "    lista_ediciones = list(diccionario.keys())\n",
        "    lista_cantidades = list(diccionario.values())\n",
        "\n",
        "    # Crear el gráfico\n",
        "    plt.figure(figsize=(8, 8))\n",
        "    plt.pie(lista_cantidades, labels=lista_ediciones, autopct=\"%0.1f%%\", startangle=35)\n",
        "\n",
        "    # Setear titulo\n",
        "    plt.title(\"Cantidad de Viajes por Edición de Previaje\")\n",
        "\n",
        "    # Mostrar el gráfico\n",
        "    plt.show()\n",
        "\n",
        "crearGrafico(viajes_por_edicion)"
      ],
      "metadata": {
        "id": "gUTxYbyf7Clx"
      },
      "execution_count": null,
      "outputs": []
    },
    {
      "cell_type": "code",
      "source": [
        "#obtener la  provincia que mas viajeros recibió para cada mes del año 2021. Mostrar en un grafico la cantidad de meses que cada provincia fue la mas visitada en un año:\n",
        "\n",
        "import matplotlib.pyplot as plt\n",
        "cantidad = []\n",
        "provincias = []\n",
        "meses = [\"enero\", \"febrero\", \"marzo\", \"abril\", \"mayo\", \"junio\", \"julio\", \"agosto\", \"septiembre\", \"octubre\", \"noviembre\", \"diciembre\"]\n",
        "for mes in range(1, 13):\n",
        "  provincia, viajeros = masViajeros(lista_viajes, mes, 2021)\n",
        "  cantidad.append(viajeros)\n",
        "  provincias.append(provincia)\n",
        "  print(f'provincia: {provincia}, cantidad: {viajeros}')\n",
        "\n",
        "\n",
        "\n",
        "fig, ax = plt.subplots()\n",
        "ax.bar(meses, cantidad)\n",
        "\n",
        "ax.set_ylabel(\"meses\")\n",
        "ax.set_title('provincias')\n",
        "ax.legend(title='provincias con mas cantidad de viajes')\n",
        "plt.xticks(rotation= 95, ticks=range(12), labels=provincias)\n",
        "plt.show()"
      ],
      "metadata": {
        "id": "pjAl7cXj7OV4"
      },
      "execution_count": null,
      "outputs": []
    }
  ]
}