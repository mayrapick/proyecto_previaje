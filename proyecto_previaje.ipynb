{
  "cells": [
    {
      "cell_type": "markdown",
      "metadata": {
        "id": "view-in-github",
        "colab_type": "text"
      },
      "source": [
        "<a href=\"https://colab.research.google.com/github/mayrapick/proyecto_previaje/blob/main/proyecto_previaje.ipynb\" target=\"_parent\"><img src=\"https://colab.research.google.com/assets/colab-badge.svg\" alt=\"Open In Colab\"/></a>"
      ]
    },
    {
      "cell_type": "code",
      "source": [
        "!gdown 1WWvf6yn5oS1xarapKnwr3s8l2wKWtd7d\n",
        "\n",
        "import csv"
      ],
      "metadata": {
        "id": "v-RvyTm9IYIC",
        "colab": {
          "base_uri": "https://localhost:8080/"
        },
        "outputId": "24009e27-ecdf-4b97-a58e-63c343eeec1b"
      },
      "execution_count": null,
      "outputs": [
        {
          "output_type": "stream",
          "name": "stdout",
          "text": [
            "Downloading...\n",
            "From: https://drive.google.com/uc?id=1WWvf6yn5oS1xarapKnwr3s8l2wKWtd7d\n",
            "To: /content/coordenadas_provincias.csv\n",
            "\r  0% 0.00/707 [00:00<?, ?B/s]\r100% 707/707 [00:00<00:00, 3.20MB/s]\n"
          ]
        }
      ]
    },
    {
      "cell_type": "code",
      "source": [
        "def openFile(file):\n",
        "  \"\"\"\n",
        "  Lee datos del archivo de entrada y retorna\n",
        "  una lista con la información que se va a usar en el trabajo.\n",
        "  \"\"\"\n",
        "  lista = []\n",
        "  with open(file, 'r') as datos:\n",
        "    lectura = csv.reader(datos)\n",
        "    for fila in lectura:\n",
        "      lista.append(fila)\n",
        "    lista.pop(0)\n",
        "\n",
        "    return lista\n",
        "\n",
        "lista_provincias_coordenadas = openFile('coordenadas_provincias.csv')\n",
        "print(lista_provincias_coordenadas)"
      ],
      "metadata": {
        "id": "Q4HQYDnN7hcU"
      },
      "execution_count": null,
      "outputs": []
    },
    {
      "cell_type": "code",
      "source": [
        "def listToDict(lista):\n",
        "  \"\"\"\n",
        "  Toma el resultado de la lectura de datos como argumento y devuelve una lista\n",
        "  de diccionarios.\n",
        "  Tiene un argumento 'encabezado' por defecto.\n",
        "  La clave es el valor en el índice 0, y los valores asociados son una tupla\n",
        "  con el resto de los elementos de la lista.\n",
        "  \"\"\"\n",
        "  diccionario_provincias = {}\n",
        "  for key, value1, value2 in lista_provincias_coordenadas:\n",
        "    diccionario_provincias[key] = (value1, value2)\n",
        "\n",
        "  return diccionario_provincias\n",
        "\n",
        "print(listToDict(lista_provincias_coordenadas))"
      ],
      "metadata": {
        "id": "DCyQRgOeHq8P"
      },
      "execution_count": null,
      "outputs": []
    },
    {
      "cell_type": "code",
      "source": [
        "class Provincia:\n",
        "  \"\"\"\n",
        "  Esta clase representa una provincia.\n",
        "  Atributos:\n",
        "  nombre: str\n",
        "  coordenada: tuple\n",
        "  \"\"\"\n",
        "  def __init__(self, nombre, coordenadas):\n",
        "    self.nombre = nombre\n",
        "    self.coordenadas = coordenadas\n",
        "\n",
        "  def __str__(self):\n",
        "    return f\"La provincia es: {self.nombre}, coordenadas: {self.coordenadas}\"\n",
        "\n",
        "#ejemplos:\n",
        "diccionario_provincias = listToDict(lista_provincias_coordenadas)\n",
        "for nombre, coordenadas in diccionario_provincias.items():\n",
        "  provincia = Provincia(nombre, coordenadas) # crea el objeto como instancia de la clase\n",
        "  print(provincia)\n"
      ],
      "metadata": {
        "id": "wxpjDZanItdg"
      },
      "execution_count": null,
      "outputs": []
    },
    {
      "cell_type": "code",
      "source": [
        "#https://drive.google.com/file/d/1KWnSldEp76LoqMqNGyjLJYhEUlx1jIDJ/view?usp=sharing\n",
        "!gdown 1KWnSldEp76LoqMqNGyjLJYhEUlx1jIDJ\n",
        "\n",
        "import csv"
      ],
      "metadata": {
        "id": "M7_DMmg4MG4y"
      },
      "execution_count": null,
      "outputs": []
    },
    {
      "cell_type": "code",
      "source": [
        "lista_viajes = openFile('Copia de viajes_origen_destino_mes.csv')\n",
        "encabezado = [\"fecha_inicio\", \"provincia_origen\", \"provincia_destino\", \"viajes\", \"viajeros\", \"edicion\"]\n",
        "\n",
        "# impresion de la lista\n",
        "print(lista_viajes)"
      ],
      "metadata": {
        "id": "zxbDGdeQMHCo"
      },
      "execution_count": null,
      "outputs": []
    },
    {
      "cell_type": "code",
      "execution_count": null,
      "metadata": {
        "id": "KRzNHgKwfB4X"
      },
      "outputs": [],
      "source": [
        "class Viaje:\n",
        "    \"\"\"\n",
        "    Esta clase representa un viaje,\n",
        "    contiene los datos relevantes al análisis.\n",
        "    \"\"\"\n",
        "    def __init__(self, mes_inicio, provincia_origen, provincia_destino, viajes, viajeros, edicion):\n",
        "\n",
        "      self.mes_inicio = mes_inicio\n",
        "      self.provincia_origen = provincia_origen\n",
        "      self.provincia_destino = provincia_destino\n",
        "      self.viajes = viajes\n",
        "      self.viajeros = viajeros\n",
        "      self.edicion = edicion\n",
        "\n",
        "    def __str__(self):\n",
        "      return f\"Viaje: mes: {self.mes_inicio}, origen: {self.provincia_origen}, destino: {self.provincia_destino}, viajes: {self.viajes}, cantidad de viajeros: {self.viajeros}, edición: {self.edicion}\"\n",
        "\n",
        "# ejemplos:\n",
        "# se crean mediante iteración todos los objetos posibles contenidos en lista_viajes\n",
        "for item in lista_viajes:\n",
        "  viaje = Viaje(item[0], item[1], item[2], int(item[3]), int(item[4]), item[5]) # crea el objeto como instancia de la clase\n",
        "  print(viaje)\n"
      ]
    },
    {
      "cell_type": "code",
      "source": [
        "def diccionarioViajes(lista):\n",
        "  \"\"\"\n",
        "  Esta funcion retorna una lista de diccionarios de viajes en función de una lista\n",
        "  que se le pasa por parámetro\n",
        "  \"\"\"\n",
        "  dicc_viajes = []\n",
        "  for item in lista:\n",
        "    diccionario = {\n",
        "      \"mes_inicio\": item[0],\n",
        "      \"provincia_origen\": item[1],\n",
        "      \"provincia_destino\": item[2],\n",
        "      \"viajes\": int(item[3]),\n",
        "      \"viajeros\": int(item[4]),\n",
        "      \"edicion\": item[5]\n",
        "    }\n",
        "    dicc_viajes.append(diccionario)\n",
        "  return dicc_viajes\n",
        "\n",
        "\n",
        "viajes = diccionarioViajes(lista_viajes)\n",
        "print(viajes)\n"
      ],
      "metadata": {
        "id": "JqjrREIFAgaL"
      },
      "execution_count": null,
      "outputs": []
    },
    {
      "cell_type": "code",
      "source": [
        "def datosRelevantes(lista, *encabezados):\n",
        "  dicc_relevantes = []\n",
        "  for item in lista:\n",
        "    diccionario = {}\n",
        "    for encabezado in encabezados:\n",
        "      if encabezado in [\"mes_inicio\", \"provincia_origen\", \"provincia_destino\", \"viajes\", \"viajeros\", \"edicion\"]:\n",
        "        diccionario[encabezado] = item[[x.lower() for x in [\"mes_inicio\", \"provincia_origen\", \"provincia_destino\", \"viajes\", \"viajeros\", \"edicion\"]].index(encabezado)]\n",
        "    if diccionario:\n",
        "      dicc_relevantes.append(diccionario)\n",
        "  return dicc_relevantes\n",
        "\n",
        "#ejemplo de uso, se filtran en este caso por los encabezados: viajes y edicion\n",
        "viajes_edicion = datosRelevantes(lista_viajes, \"viajes\", \"edicion\")\n",
        "print(viajes_edicion)"
      ],
      "metadata": {
        "id": "A425niPArQ84"
      },
      "execution_count": null,
      "outputs": []
    },
    {
      "cell_type": "code",
      "source": [
        "#calcule cual fue la provincia que más viajeros recibio, en un mes y año indicados como parámetros.\n",
        "def masViajeros(lista, mes, periodo):\n",
        "  mes_str = str(mes).zfill(2)  # Rellena el valor del mes con ceros a la izquierda si es menor a una decena\n",
        "  viajeros_por_provincia = {}\n",
        "  for item in lista:\n",
        "    if item[0] == f'{periodo}-{mes_str}':\n",
        "      provincia_destino = item[2]\n",
        "      viajeros = int(item[4])\n",
        "      if provincia_destino in viajeros_por_provincia:\n",
        "        viajeros_por_provincia[provincia_destino] += viajeros\n",
        "      else:\n",
        "        viajeros_por_provincia[provincia_destino] = viajeros\n",
        "  if viajeros_por_provincia:\n",
        "    provincia_mas_viajeros = max(viajeros_por_provincia, key=viajeros_por_provincia.get)\n",
        "    return provincia_mas_viajeros, viajeros_por_provincia[provincia_destino]\n",
        "  else:\n",
        "    return \"No hay datos.\"\n",
        "\n",
        "#ejemplo de uso, se imprime por iteración los resultados para todos los meses de 2022\n",
        "for mes in range(1, 13):\n",
        "  provincia = masViajeros(lista_viajes, mes, 2021)\n",
        "  print(f\"Provincia con más viajeros en {mes}/2021: {provincia}\")\n",
        "\n",
        "#ejemplo de uso, caso en que no hay datos para cierto mes (10-2023)\n",
        "provincia = masViajeros(lista_viajes, 10, 2023)\n",
        "print(f\"Provincia con más viajeros en 10/2023: {provincia}\")"
      ],
      "metadata": {
        "id": "EWHw41p4RQsz"
      },
      "execution_count": null,
      "outputs": []
    },
    {
      "cell_type": "code",
      "source": [
        "#calcule el promedio de viajeros por viaje en una provincia de origen especifica.\n",
        "def calcularPromedio(lista, provincia_origen):\n",
        "  total_viajes = 0\n",
        "  total_viajeros = 0\n",
        "  for item in lista:\n",
        "    if item[1] == provincia_origen:\n",
        "      viajes = int(item[3])\n",
        "      viajeros = int(item[4])\n",
        "      total_viajes += viajes\n",
        "      total_viajeros += viajeros\n",
        "  if total_viajes > 0:\n",
        "    promedio = round(total_viajeros / total_viajes)\n",
        "    return promedio\n",
        "  else:\n",
        "    return \"No hay suficientes viajes\"\n",
        "\n",
        "# creamos una lista de provincias para aplicar el promedio\n",
        "provincias = []\n",
        "for elemento in lista_viajes:\n",
        "  provincia_origen = elemento[1]\n",
        "  # se agrega a la lista solo una vez cada provincia\n",
        "  if provincia_origen not in provincias:\n",
        "      provincias.append(provincia_origen)\n",
        "\n",
        "# ejemplos iterando cada provincia\n",
        "for provincia in provincias:\n",
        "    promedio = calcularPromedio(lista_viajes, provincia)\n",
        "    print(f\"Promedio de viajeros por viaje en {provincia}: {promedio}\")\n",
        "\n"
      ],
      "metadata": {
        "id": "-_ief4RGRV5J"
      },
      "execution_count": null,
      "outputs": []
    },
    {
      "cell_type": "code",
      "source": [],
      "metadata": {
        "id": "0DUwAnx88o7U"
      },
      "execution_count": null,
      "outputs": []
    },
    {
      "cell_type": "code",
      "source": [
        "# filtramos los encabezados relevantes: viajes y edicion\n",
        "viajes_edicion = datosRelevantes(lista_viajes, \"viajes\", \"edicion\")\n",
        "\n",
        "def calcularViajesPorEdicion(lista_dicc):\n",
        "  \"\"\"\n",
        "  función que recibe una lista de diccionarios por parámetro\n",
        "  y develve la cantidad de viajes por edicion en un diccionario\n",
        "  (key: edicion, value: total de viajes)\n",
        "  \"\"\"\n",
        "  viajes_por_edicion = {}\n",
        "\n",
        "  for viaje in lista_dicc:\n",
        "    edicion = viaje['edicion']\n",
        "    cantidad_viajes = int(viaje['viajes'])\n",
        "    if edicion in viajes_por_edicion:\n",
        "       viajes_por_edicion[edicion] += cantidad_viajes\n",
        "    else:\n",
        "       viajes_por_edicion[edicion] = cantidad_viajes\n",
        "  return viajes_por_edicion\n",
        "\n",
        "viajes_por_edicion = calcularViajesPorEdicion(viajes_edicion)\n",
        "print(viajes_por_edicion)"
      ],
      "metadata": {
        "id": "wQ7THMcKdier"
      },
      "execution_count": null,
      "outputs": []
    },
    {
      "cell_type": "code",
      "source": [
        "import matplotlib.pyplot as plt\n",
        "\n",
        "def crearGrafico(diccionario):\n",
        "    lista_ediciones = list(diccionario.keys())\n",
        "    lista_cantidades = list(diccionario.values())\n",
        "\n",
        "    # Crear el gráfico\n",
        "    plt.figure(figsize=(8, 8))\n",
        "    plt.pie(lista_cantidades, labels=lista_ediciones, autopct=\"%0.1f%%\", startangle=35)\n",
        "\n",
        "    # Setear titulo\n",
        "    plt.title(\"Cantidad de Viajes por Edición de Previaje\")\n",
        "\n",
        "    # Mostrar el gráfico\n",
        "    plt.show()\n",
        "\n",
        "crearGrafico(viajes_por_edicion)"
      ],
      "metadata": {
        "colab": {
          "base_uri": "https://localhost:8080/",
          "height": 675
        },
        "id": "hMomWBNoiJ-H",
        "outputId": "d6020dec-ec03-42ec-ba8f-85553db39a0f"
      },
      "execution_count": null,
      "outputs": [
        {
          "output_type": "display_data",
          "data": {
            "text/plain": [
              "<Figure size 800x800 with 1 Axes>"
            ],
            "image/png": "[encoded data removed]"
          },
          "metadata": {}
        }
      ]
    },
    {
      "cell_type": "code",
      "source": [
        "#consigna: obtener la  provincia que mas viajeros recibió para cada mes del año 2021. Mostrar en un grafico la cantidad de meses que cada provincia fue la\n",
        "# mas visitada en un año:\n",
        "\n",
        "import matplotlib.pyplot as plt\n",
        "cantidad = []\n",
        "provincias = []\n",
        "meses = [\"enero\", \"febrero\", \"marzo\", \"abril\", \"mayo\", \"junio\", \"julio\", \"agosto\", \"septiembre\", \"octubre\", \"noviembre\", \"diciembre\"]\n",
        "for mes in range(1, 13):\n",
        "  provincia, viajeros = masViajeros(lista_viajes, mes, 2021)\n",
        "  cantidad.append(viajeros)\n",
        "  provincias.append(provincia)\n",
        "  print(f'provincia: {provincia}, cantidad: {viajeros}')\n",
        "\n",
        "\n",
        "\n",
        "fig, ax = plt.subplots()\n",
        "ax.bar(meses, cantidad)\n",
        "\n",
        "ax.set_ylabel(\"meses\")\n",
        "ax.set_title('provincias')\n",
        "ax.legend(title='provincias con mas cantidad de viajes')\n",
        "plt.xticks(rotation= 95, ticks=range(12), labels=provincias)\n",
        "plt.show()\n",
        "\n",
        "\n"
      ],
      "metadata": {
        "id": "NF0tf7qU8reD"
      },
      "execution_count": null,
      "outputs": []
    },
    {
      "cell_type": "code",
      "source": [
        "print(provincias)\n",
        "print(cantidad)"
      ],
      "metadata": {
        "colab": {
          "base_uri": "https://localhost:8080/"
        },
        "id": "e8Rhm4zPGUxx",
        "outputId": "91986388-05f7-4426-ea2b-0e97bfbfe8a0"
      },
      "execution_count": null,
      "outputs": [
        {
          "output_type": "stream",
          "name": "stdout",
          "text": [
            "['Buenos Aires', 'Buenos Aires', 'Río Negro', 'Misiones', 'Misiones', 'Río Negro', 'Río Negro', 'Río Negro', 'Tierra del Fuego, Antártida e Islas del Atlántico Sur', 'Córdoba', 'Río Negro', 'Buenos Aires']\n",
            "[1026, 663, 511, 516, 176, 84, 2025, 2900, 2488, 895, 4452, 5184]\n"
          ]
        }
      ]
    },
    {
      "cell_type": "code",
      "source": [],
      "metadata": {
        "id": "cU9Ey9pEB5KU"
      },
      "execution_count": null,
      "outputs": []
    },
    {
      "cell_type": "markdown",
      "source": [
        "# Programa principal"
      ],
      "metadata": {
        "id": "_38tNU0rs3Dg"
      }
    },
    {
      "cell_type": "code",
      "source": [
        "\"\"\"\n",
        "Se recopila en este apartado cada una de las fórmulas aplicadas de forma tal que\n",
        "permiten resolver los enunciados presentados en cada etapa.\n",
        "las resoluciones se encuentran ejecutadas paso a paso anteriormente a lo largo\n",
        "del desarrollo del programa.\n",
        "NOTA: Se decidió unificar el criterio de nominación de funciones a camelCase\n",
        "aún cuando algunos enunciados pedían funciones en snake_case.\n",
        "\"\"\"\n",
        "\n",
        "\n",
        "#ETAPA 1\n",
        "print(\"-----------------------------------\")\n",
        "print(\"ETAPA 1\")\n",
        "#Leer el archivo 'coordenadas_provincias.csv'\n",
        "lista_provincias_coordenadas = openFile('coordenadas_provincias.csv')\n",
        "\n",
        "#Crear la función listToDict que se encarga de convertir los datos leídos a una lista de diccionarios.\n",
        "#Llamar a la función anterior con los datos del archivo leído y verificar que devuelva lo pedido.\n",
        "diccionario_provincias = listToDict(lista_provincias_coordenadas)\n",
        "print(\"SE PASA DE LISTA A DICCIONARIO LAS PROVINCIAS Y SUS COORDENADAS\")\n",
        "print(diccionario_provincias)\n",
        "print()\n",
        "\n",
        "#Crear el constructor de la clase 'Provincia'\n",
        "#Crear un objeto de la clase 'Provincia'\n",
        "#Se imprimen todas las provincias de Argentina con sus coordenadas por iteración\n",
        "print(\"CREANDO OBJETOS PROVINCIA\")\n",
        "for nombre, coordenadas in diccionario_provincias.items():\n",
        "  provincia = Provincia(nombre, coordenadas) # crea el objeto como instancia de la clase\n",
        "  print(provincia)\n",
        "print()\n",
        "#Se imprime una provincia inventada en función de una creación individual\n",
        "mordor = Provincia('Mordor', (-35,150))\n",
        "print(\"CREANDO UN OBJETO PROVINCIA INVENTADO\")\n",
        "print(mordor)\n",
        "print()\n",
        "\n",
        "#ETAPA 2\n",
        "print(\"-----------------------------------\")\n",
        "print(\"ETAPA 2\")\n",
        "#Leer el archivo 'previaje.csv'\n",
        "lista_viajes = openFile('Copia de viajes_origen_destino_mes.csv')\n",
        "\n",
        "#Proponer una estructuras de datos para trabajar cada uno de los dataset.\n",
        "viajes = diccionarioViajes(lista_viajes)\n",
        "print(\"SE PASA DE LISTA A DICCIONARIO DE VIAJES\")\n",
        "print(viajes)\n",
        "print()\n",
        "\n",
        "#Crear el constructor de la clase 'Viaje'\n",
        "#Crear un objeto de la clase 'Viaje'\n",
        "viaje = Viaje(2022-12, 'Chubut', 'Santa Fe', 20, 20, 'Previaje 2') # crea el objeto como instancia de la clase\n",
        "print(\"SE CREA UN OBJETO VIAJE\")\n",
        "print(viaje)\n",
        "print()\n",
        "\n",
        "#Crear una función 'datos_relevantes' que sólo devuelva (con la misma estructura de datos que se está trabajando) los datos de determinados encabezados pasados como parámetros.\n",
        "viajes_edicion = datosRelevantes(lista_viajes, \"viajes\", \"edicion\")\n",
        "print(\"SE FILTRAN LOS ENCABEZADOS VIAJES Y EDICION\")\n",
        "print(viajes_edicion)\n",
        "print()\n",
        "\n",
        "#Crear una función 'mas_viajeros' que calcule cual fue la provincia que más viajeros recibio, en un mes y año indicados como parámetros.\n",
        "#ejemplo de uso, se imprime por iteración los resultados para todos los meses de 2022\n",
        "print(\"SE OBTIENEN LAS PROVINCIAS CON MÁS VIAJEROS EN CADA MES DE 2022\")\n",
        "for mes in range(1, 13):\n",
        "  provincia = masViajeros(lista_viajes, mes, 2022)\n",
        "  print(f\"Provincia con más viajeros en {mes}/2022: {provincia}\")\n",
        "print()\n",
        "\n",
        "#ejemplo de uso, caso en que no hay datos para cierto mes (10-2023)\n",
        "provincia = masViajeros(lista_viajes, 10, 2023)\n",
        "print(\"SE VERIFICA LA RESPUESTA AL NO HABER DATOS\")\n",
        "print(f\"Provincia con más viajeros en 10/2023: {provincia}\")\n",
        "\n",
        "#Crear una función 'calcular_promedio' que calcule el promedio de viajeros por viaje en una provincia de origen especifica.\n",
        "# creamos una lista de provincias para aplicar el promedio\n",
        "provincias = []\n",
        "for elemento in lista_viajes:\n",
        "  provincia_origen = elemento[1]\n",
        "  # se agrega a la lista solo una vez cada provincia\n",
        "  if provincia_origen not in provincias:\n",
        "      provincias.append(provincia_origen)\n",
        "print()\n",
        "\n",
        "print(\"SE OBTIENEN LOS PROMEDIOS DE VIAJEROS POR VIAJE EN CADA PROVINCIA DE ARGENTINA\")\n",
        "# ejemplos iterando cada provincia\n",
        "for provincia in provincias:\n",
        "    promedio = calcularPromedio(lista_viajes, provincia)\n",
        "    print(f\"Promedio de viajeros por viaje en {provincia}: {promedio}\")\n",
        "print()\n",
        "\n",
        "# ETAPA 3\n",
        "print(\"-----------------------------------\")\n",
        "print(\"ETAPA 3\")\n",
        "# Usar los datos del archivo 'previaje.csv' para cargar una estructura de datos que consideren adecuada los datos que consideren pertinentes para responder la siguiente pregunta: ¿cuántos viajes fueron realizados en cada edición del programa PreViaje?\n",
        "# filtramos los encabezados relevantes: viajes y edicion\n",
        "viajes_edicion = datosRelevantes(lista_viajes, \"viajes\", \"edicion\")\n",
        "viajes_por_edicion = calcularViajesPorEdicion(viajes_edicion)\n",
        "print(\"SE CREA DICCIONARIO CON CLAVE EDICION Y VALOR VIAJES, CALCULANDO EL TOTAL DE VIAJES POR EDICION\")\n",
        "print(viajes_por_edicion)\n",
        "print()\n",
        "\n",
        "# Realizar un gráfico de torta que muestre los porcentajes de viajes correspondientes a cada edición, sobre el total de viajes del programa completo. Para ello deberán usar los módulos matplotlib y seaborn.\n",
        "print(\"SE CREA UN GRÁFICO CON LOS PORCENTAJES DE VIAJES SOBRE EL TOTAL CORRESPONDIENTE A CADA EDICIÓN\")\n",
        "crearGrafico(viajes_por_edicion)"
      ],
      "metadata": {
        "id": "0TZvHWN_s2Vt"
      },
      "execution_count": null,
      "outputs": []
    }
  ],
  "metadata": {
    "colab": {
      "provenance": [],
      "collapsed_sections": [
        "_38tNU0rs3Dg"
      ],
      "include_colab_link": true
    },
    "kernelspec": {
      "display_name": "Python 3",
      "name": "python3"
    },
    "language_info": {
      "name": "python"
    }
  },
  "nbformat": 4,
  "nbformat_minor": 0
}