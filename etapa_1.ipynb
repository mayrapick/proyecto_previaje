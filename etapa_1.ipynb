{
  "nbformat": 4,
  "nbformat_minor": 0,
  "metadata": {
    "colab": {
      "provenance": [],
      "authorship_tag": "ABX9TyOuKNLKR18BeMd6FUh4OInj",
      "include_colab_link": true
    },
    "kernelspec": {
      "name": "python3",
      "display_name": "Python 3"
    },
    "language_info": {
      "name": "python"
    }
  },
  "cells": [
    {
      "cell_type": "markdown",
      "metadata": {
        "id": "view-in-github",
        "colab_type": "text"
      },
      "source": [
        "<a href=\"https://colab.research.google.com/github/mayrapick/proyecto_previaje/blob/etapa_1/etapa_1.ipynb\" target=\"_parent\"><img src=\"https://colab.research.google.com/assets/colab-badge.svg\" alt=\"Open In Colab\"/></a>"
      ]
    },
    {
      "cell_type": "code",
      "execution_count": null,
      "metadata": {
        "id": "5ZARqlYh5J19"
      },
      "outputs": [],
      "source": [
        "!gdown 1WWvf6yn5oS1xarapKnwr3s8l2wKWtd7d\n",
        "\n",
        "import csv\n",
        "def openFile(file):\n",
        "  \"\"\"\n",
        "  Lee datos del archivo de entrada y retorna\n",
        "  una lista con la información que se va a usar en el trabajo.\n",
        "  \"\"\"\n",
        "  lista = []\n",
        "  with open(file, 'r') as datos:\n",
        "    lectura = csv.reader(datos)\n",
        "    for fila in lectura:\n",
        "      lista.append(fila)\n",
        "    lista.pop(0)\n",
        "\n",
        "    return lista\n",
        "\n",
        "lista_provincias_coordenadas = openFile('coordenadas_provincias.csv')\n",
        "print(lista_provincias_coordenadas)\n",
        "\n"
      ]
    },
    {
      "cell_type": "code",
      "source": [
        "def listToDict(lista):\n",
        "  \"\"\"\n",
        "  Toma el resultado de la lectura de datos como argumento y devuelve una lista\n",
        "  de diccionarios.\n",
        "  Tiene un argumento 'encabezado' por defecto.\n",
        "  La clave es el valor en el índice 0, y los valores asociados son una tupla\n",
        "  con el resto de los elementos de la lista.\n",
        "  \"\"\"\n",
        "  diccionario_provincias = {}\n",
        "  for key, value1, value2 in lista_provincias_coordenadas:\n",
        "    diccionario_provincias[key] = (value1, value2)\n",
        "\n",
        "  return diccionario_provincias\n",
        "\n",
        "print(listToDict(lista_provincias_coordenadas))"
      ],
      "metadata": {
        "id": "txP791ex5Uxs"
      },
      "execution_count": null,
      "outputs": []
    },
    {
      "cell_type": "code",
      "source": [
        "class Provincia:\n",
        "  \"\"\"\n",
        "  Esta clase representa una provincia.\n",
        "  Atributos:\n",
        "  nombre: str\n",
        "  coordenada: tuple\n",
        "  \"\"\"\n",
        "  def __init__(self, nombre, coordenadas):\n",
        "    self.nombre = nombre\n",
        "    self.coordenadas = coordenadas\n",
        "\n",
        "  def __str__(self):\n",
        "    return f\"La provincia es: {self.nombre}, coordenadas: {self.coordenadas}\"\n",
        "\n",
        "#ejemplos:\n",
        "diccionario_provincias = listToDict(lista_provincias_coordenadas)\n",
        "for nombre, coordenadas in diccionario_provincias.items():\n",
        "  provincia = Provincia(nombre, coordenadas) # crea el objeto como instancia de la clase\n",
        "  print(provincia)"
      ],
      "metadata": {
        "id": "FjTaZtnI5XvH"
      },
      "execution_count": null,
      "outputs": []
    }
  ]
}